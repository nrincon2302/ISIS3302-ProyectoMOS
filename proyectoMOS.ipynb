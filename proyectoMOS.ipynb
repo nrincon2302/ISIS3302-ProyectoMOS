{
 "cells": [
  {
   "cell_type": "markdown",
   "metadata": {},
   "source": [
    "# PROYECTO ISIS-3302\n",
    "# ITERACIÓN 1"
   ]
  },
  {
   "cell_type": "markdown",
   "metadata": {},
   "source": [
    "## 1. Identificación de Elementos Clave:"
   ]
  },
  {
   "cell_type": "markdown",
   "metadata": {},
   "source": [
    "## 2. Formulación de la Estructura del Modelo:\n",
    "\n",
    "### A continuación se presentan los conjuntos,  parámetros, variables de decisión y restricciones que conforman la formulación matemática del problema. Esta formulación corresponde a un modelo de ruteo de vehículos con múltiples depósitos (MDVRP) BEETRACK.COM adaptado a las condiciones de Logístico en Bogotá. Se utiliza  notación estándar: conjuntos en mayúsculas, parámetros en letra latina, variables de decisión usualmente en letra latina minúscula (con subíndices correspondientes a sus dimensiones)."
   ]
  },
  {
   "cell_type": "markdown",
   "metadata": {},
   "source": [
    "### 2.1 CONJUNTOS"
   ]
  },
  {
   "cell_type": "markdown",
   "metadata": {},
   "source": [
    "I: Conjunto de Centros de Distribución = {1, 2, ..., m}. En el ejemplo, I = {CD1, CD2, CD3}.\n",
    "\n",
    "J: Conjunto de Clientes (o puntos de entrega) = {1, 2, ..., n}. En el ejemplo, J = {C1, C2, C3}.\n",
    "\n",
    "V: Conjunto de Vehículos disponibles = {1, 2, ..., k}. En el ejemplo, V = {V1, V2, V3}.\n",
    "\n",
    "Para modelar las rutas, definimos el conjunto N de nodos que incluye todos los puntos \n",
    "involucrados en las rutas. Una manera es tomar N = I U J; es decir, los nodos están \n",
    "compuestos por los centros (posibles orígenes/destinos) y los clientes. \n",
    "Alternativamente, para facilitar la formulación de múltiples depósitos, podemos \n",
    "considerar que cada ruta inicia y termina en un centro: se pueden introducir nodos \n",
    "depósito diferenciados como origen y destino para cada centro, pero en este modelo \n",
    "asumiremos que salir de un CD y volver al mismo CD se modela con N = I U J y \n",
    "controlaremos inicios y fines con restricciones.\n",
    "\n",
    "A: Conjunto de arcos posibles en la red logística. Generalmente, A = {(u, v): u, v ∈ N, u ≠ v}, \n",
    "es decir, todos los pares de nodos distintos. En este caso, los arcos \n",
    "representan tramos de ruta posibles entre un origen u y un destino v. Nota: podríamos \n",
    "restringir A para evitar arcos entre ciertos nodos imposibles (por ejemplo, no permitir \n",
    "arcos entre distintos centros de distribución si asumimos que un vehículo no va de un \n",
    "centro a otro durante una ruta), aunque si el modelo permite cambio de centro \n",
    "intermedio sería más complejo. Simplificaremos asumiendo que los vehículos no \n",
    "intercambian carga entre CDs durante la ruta; así, las rutas son circuitos que inician y \n",
    "terminan en el mismo CD."
   ]
  }
 ],
 "metadata": {
  "language_info": {
   "name": "python"
  }
 },
 "nbformat": 4,
 "nbformat_minor": 2
}
